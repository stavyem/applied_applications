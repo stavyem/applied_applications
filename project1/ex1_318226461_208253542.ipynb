{
 "cells": [
  {
   "cell_type": "markdown",
   "id": "59fd91bf",
   "metadata": {},
   "source": [
    "# שאלה 1"
   ]
  },
  {
   "cell_type": "markdown",
   "id": "9651cad4",
   "metadata": {},
   "source": [
    "## סעיף 1.1"
   ]
  },
  {
   "cell_type": "code",
   "execution_count": 13,
   "id": "46a83cb4",
   "metadata": {},
   "outputs": [
    {
     "name": "stdout",
     "output_type": "stream",
     "text": [
      "38\n"
     ]
    }
   ],
   "source": [
    "# tupleOfEdges = (begin, end, color, length in km, speed with no traffic, speed with traffic)\n",
    "\n",
    "tupleOfEdges = (('Derech Yitzhak Rabin - the middle of the road', 'Aluf Sade interchange', 'Yellow', 2.7, 30, 20),\n",
    "('Dizengoff - Ibn Gabirol', 'Rabin Square', 'Yellow', 0.6, 30, 20),\n",
    "('Rokach Ibn Gabirol Junction', 'Rabin Square', 'Yellow', 2.1, 30, 20),\n",
    "('Kohav Hatsafon neighborhood', 'Rokach interchange', 'Yellow', 1.0, 30, 20),\n",
    "('Yarkon Interchange', 'PT - connection to road 40 (east)', 'blue', 5.0, 60, 10),\n",
    "('Tikwa Interchange', 'Yarkon Interchange', 'blue', 2.4, 60, 10),\n",
    "('Morasha Interchange', 'Tikwa Interchange', 'blue', 2.3, 60, 10),\n",
    "('Morasha Interchange', 'Em Hamoshavot Interchange', 'blue', 2.8, 60, 10),\n",
    "('Morasha Interchange', 'Glilot Interchange', 'blue', 4.8, 60, 10),\n",
    "('Glilot Interchange', 'KKL Interchange', 'blue', 2.2, 60, 10),\n",
    "('Rokach Ibn Gabirol Junction', 'Kohav Hatsafon neighborhood', 'Yellow', 0.9, 30, 20),\n",
    "('KKL Interchange', 'Rokach Interchange', 'blue', 2.0, 60, 10),\n",
    "('West Glilot Junction', 'Glilot Interchange', 'Yellow', 0.7, 30, 20),\n",
    "('West Glilot Junction', 'Kohav Hatsafon neighborhood', 'Yellow', 4.7, 30, 20),\n",
    "('Geha Interchange', '481 road', 'Yellow', 2.9, 30, 20),\n",
    "('Em Hamoshavot Interchange', 'Geha Interchange', 'blue', 0.9, 60, 10),\n",
    "('Em Hamoshavot Interchange', 'Geha Interchange', 'blue', 0.9, 60, 10),\n",
    "('Hashalom Hahalacha Junction', 'Geha Interchange', 'Yellow', 5.3, 30, 20),\n",
    "('Moshe Dayan Yitzhak Sade Junction', 'Derech Yitshak Rabin - the middle of the road', 'Yellow', 1.0, 30, 20),\n",
    "('Hashalom Hahalacha Junction', 'Derech Yitzhak Rabin - the middle of the road', 'Yellow', 1.4, 30, 20),\n",
    "('Hashalom Hahalacha Junction', 'Moshe Dayan Yitzhak Sade Junction', 'Yellow', 0.9, 30, 20),\n",
    "('PT - connection to road 40 (east)', '471-40 Interchange', 'blue', 2.2, 60, 10),\n",
    "('471-40 Interchange', 'Gat Rimon', 'blue', 1.7, 60, 10),\n",
    "('Bar Ilan interchange', 'Aluf Sade interchange', 'blue', 1.1, 60, 10),\n",
    "('481 Road', 'PT - connection to road 40 (east)', 'Yellow', 2.4, 30, 20),\n",
    "('481 Road', 'Tikwa Interchange', 'Yellow', 3.0, 30, 20),\n",
    "('Shitrit Rokah junction', 'Em Hamoshavot Interchange', 'Yellow', 3.2, 30, 20),\n",
    "('Rokach Interchange', 'Shitrit Rokah junction', 'Yellow', 1.3, 30, 20),\n",
    "('Dizengoff - Ibn Gabirol', 'Kaplan Interchange', 'Yellow', 0.8, 30, 20),\n",
    "('Kaplan Interchange', 'Hashalom Hahalacha Junction', 'Purple', 0.4, 60, 5),\n",
    "('Hashalom Hahalacha Junction', 'Rokach Interchange', 'Purple', 3.4, 60, 5),\n",
    "('Geha Interchange', 'Bar Ilan Interchange', 'blue', 3.2, 60, 10),\n",
    "('471-40 Interchange', 'Petah Tikva post office', 'Yellow', 2.9, 30, 20),\n",
    "('Gat Rimon', 'Petah Tikva post office', 'Yellow', 2.1, 30, 20),\n",
    "('Gat Rimon', 'Bar Ilan interchange', 'blue', 4.5, 60, 10),\n",
    "('Hayarkon interchange', 'Neve Maoz', 'Yellow', 2.2, 30, 20),\n",
    "('PT - connection to road 40 (east)', 'Neve Maoz', 'Yellow', 1.6, 30, 20),\n",
    "('Neve Maoz', 'Petah Tikva post office', 'Yellow', 1.7, 30, 20))\n",
    "\n",
    "print(len(tupleOfEdges))"
   ]
  },
  {
   "cell_type": "code",
   "execution_count": null,
   "id": "49b8f282",
   "metadata": {},
   "outputs": [],
   "source": []
  }
 ],
 "metadata": {
  "kernelspec": {
   "display_name": "Python 3 (ipykernel)",
   "language": "python",
   "name": "python3"
  },
  "language_info": {
   "codemirror_mode": {
    "name": "ipython",
    "version": 3
   },
   "file_extension": ".py",
   "mimetype": "text/x-python",
   "name": "python",
   "nbconvert_exporter": "python",
   "pygments_lexer": "ipython3",
   "version": "3.9.12"
  }
 },
 "nbformat": 4,
 "nbformat_minor": 5
}
