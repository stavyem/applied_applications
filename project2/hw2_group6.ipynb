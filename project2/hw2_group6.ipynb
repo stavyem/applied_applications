{
 "cells": [
  {
   "cell_type": "markdown",
   "metadata": {},
   "source": [
    "<div align=\"right\" dir=\"rtl\"><h1>\n",
    "מטלה 2\n",
    "</div><div align=\"right\" dir=\"rtl\"><h3>\n",
    "מגישים: <br/>\n",
    "סתיו ימין - 318226461\n",
    "<br/>\n",
    "דב גיטרמן - 208253542\n",
    "</div>"
   ]
  },
  {
   "cell_type": "markdown",
   "metadata": {},
   "source": [
    "<div align=\"right\" dir=\"rtl\"><h1>\n",
    "שאלה 1\n",
    "</div>"
   ]
  },
  {
   "cell_type": "markdown",
   "metadata": {},
   "source": [
    "<div align=\"right\" dir=\"rtl\"><h3>\n",
    "סעיף 1.1\n",
    "</div>"
   ]
  },
  {
   "attachments": {},
   "cell_type": "markdown",
   "metadata": {},
   "source": [
    "<div align=\"right\" dir=\"rtl\">\n",
    " כדי לחשב את הסיכוי שנייצר אותה ח. אמינו שאליה הקוד התכוון, נחשב את המשלים ונפחית אותו מ1. כלומר, המשלים הוא חישוב הסיכוי לטעות בכל תא וסכימת החישובים.<br>\n",
    "נשים לב שהחישוב מתבסס על כך שההסתברות להגיע לכל תא בטבלה זהה, כלומר מאחר שישנם 16 תאים, ההסתברות להגיע לכל תא היא 1/16.<br>\n",
    "<br>\n",
    "השורה הראשונה בחישובנו מציגה את החישוב הכולל עבור כל התאים.<br>\n",
    "</div>\n",
    "\n",
    "$1 - (\\frac{1}{16}) \\times [ 0.5 \\times 0.5 + 0.5 \\times.0.5 + 0.5 \\times 0.5 + 0.5 \\times 0.5 + 0.5 \\times 0.75 + 0.5 \\times 0.5 + 0.5 \\times 0.5 + 0.5 \\times 0.25 + 0.5 \\times 0.75 + 0.5 \\times 0.5 + 0.5 \\times 0.5 + 0.5 \\times 0.5 + 0.5 \\times 0.5 + 0.5 \\times 0.5 + 0.5 \\times 0.5] = 0.75$\n",
    "\n",
    "<div align=\"right\" dir=\"rtl\">\n",
    "לכן הסיכוי הוא 0.75 לבחור בח. אמינו שאליה הקוד התכוון.<br/><br/>\n",
    "על מנת להקל על הקריאה, חילקנו את כל החישובים (של ההסתברות המשלימה) ל16 שורות (כמובן ש1/16 נמצא בחישוב ההסתברויות של כל התאים, אז הוצאנו אותו כגורם משותף). כל שורה מבין 16 השורות מייצגת את הסיכוי לטעות בתא הספיציפי. <br/>\n",
    "חשוב לשים לב כי מספור התאים (1-16) התבצע אופקית משמאל לימין, מלמעלה למטה.\n",
    "<br/><br/>\n",
    "נסביר חישוב אחד לדוגמה כדי להסביר את עיקרון החישוב:\n",
    "בשורה מספר 4 כלומר בתא U על G (כאשר U השורה וG העמודה), הסיכוי להתכוון לcys הוא 0.5 משום שיש בתא שתי חומצות אמינו, כל אחת בסיכוי של חצי להתכוון אליה.\n",
    "לאחר מכן הסיכוי לטעות ולבחור כל קידוד אחר הוא 0.5, מאחר ויש שתי שלישיות שלא מייצגות את cys מתוך ארבעת השלישיות בתא.\n",
    "לכן זה מסמן את החישוב חצי כפול חצי. נחבר זאת עם הסיכוי להתכוון לבחור את ח. אמינו Trp שזה 0.5, והסיכוי לטעות הוא 0.75 מאחר ונוכל לבחור שלושה שלישיות מתוך ארבעת השלישיות בתא (מספר השלישיות שאינם מייצגים את Trp). \n",
    "</div>\n",
    "\n",
    "- $1: 0.5 \\times 0.5 + 0.5 \\times.0.5$\n",
    "- $2: 0$\n",
    "- $3: 0.5 \\times 0.5$\n",
    "- $4: 0.5 \\times 0.5 + 0.5 \\times 0.75$\n",
    "- $5: 0$\n",
    "- $6 : 0$\n",
    "- $7 : 0.5 \\times 0.5 + 0.5 \\times 0.5$\n",
    "- $8: 0$\n",
    "- $9: 0.5 \\times 0.25 + 0.5 \\times 0.75$\n",
    "- $10: 0$\n",
    "- $11: 0.5 \\times 0.5 + 0.5 \\times 0.5$\n",
    "- $12: 0.5 \\times 0.5 + 0.5 \\times 0.5$\n",
    "- $13: 0$\n",
    "- $14: 0$\n",
    "- $15: 0.5 \\times 0.5 + 0.5 \\times 0.5$\n",
    "- $16: 0$"
   ]
  },
  {
   "cell_type": "markdown",
   "metadata": {},
   "source": [
    "<div align=\"right\" dir=\"rtl\"><h3>\n",
    "סעיף 1.2\n",
    "</div>"
   ]
  },
  {
   "cell_type": "markdown",
   "metadata": {},
   "source": [
    "<div align=\"right\" dir=\"rtl\">\n",
    "יש לנו 20 סוגי ח. אמינו סה\"כ. 3 סוגים קיימים בשתי משבצות כל אחד (Leu, Ser, Arg), נשים לב לכך - אם נמחק סוג כזה ממשבצת אחת, נצטרך למחוק אותו גם במשבצת השניה. <br/>\n",
    "נרצה שבכל משבצת יהיה סוג אחד בלבד של ח. אמינו כדי שלא יהיו תקלות עם האות השלישית. לכן נמחק את הסוג השני במידה וקיים בכל משבצת. <br/>\n",
    "יצא שמחקנו 7 סוגים כדי להגיע למקרה הרצוי, ולכן נצטרך סה\"כ 13 סוגי ח. אמינו כדי שנגיע לאפס תקלות. <br/>\n",
    "ניתן לראות את המחיקות בטבלה: <br/><br/>\n",
    "<table dir=\"ltr\">\n",
    "  <tr>\n",
    "    <th></th>\n",
    "    <th>U</th>\n",
    "    <th>C</th>\n",
    "    <th>A</th>\n",
    "    <th>G</th>\n",
    "  </tr>\n",
    "  <tr>\n",
    "    <td>U</td>\n",
    "    <th align=\"left\">\n",
    "    { UUU<br/>\n",
    "    &nbsp;UUC }&nbsp;Phe\n",
    "    <br/><br/>\n",
    "    <del>{ UUA<br/>&nbsp;UUG }&nbsp;\n",
    "    Leu</del>\n",
    "    </th>\n",
    "    <th align=\"left\">\n",
    "    { UCU<br/>\n",
    "    &nbsp;UCC<br/>\n",
    "    &nbsp;UCA<br/>\n",
    "    &nbsp;UCG } Ser\n",
    "    </th>\n",
    "    <th align=\"left\">\n",
    "    { UAU<br/>\n",
    "    &nbsp;UAC } Tyr<br/><br/>\n",
    "    &nbsp;<b>UAA Stop</b><br/>\n",
    "    &nbsp;<b>UAG Stop</b>\n",
    "    </th>\n",
    "    <th align=\"left\">\n",
    "    { UGU<br/>\n",
    "    &nbsp;UGC } Cys<br/><br/>\n",
    "    &nbsp;<b>UGA Stop</b><br/>\n",
    "    &nbsp;<b><del>UGG } Trp</del></b>\n",
    "    </th>\n",
    "  </tr>\n",
    "  <tr>\n",
    "    <td>C</td>\n",
    "    <th align=\"left\">\n",
    "    <del>{ CUU<br/>\n",
    "    &nbsp;CUC<br/>\n",
    "    &nbsp;CUA<br/>\n",
    "    &nbsp;CUG } Leu </del>\n",
    "    </th>\n",
    "    <th align=\"left\">\n",
    "    { CCU<br/>\n",
    "    &nbsp;CCC<br/>\n",
    "    &nbsp;CCA<br/>\n",
    "    &nbsp;CCG } Pro\n",
    "    </th>\n",
    "    <th align=\"left\">\n",
    "    { CAU<br/>\n",
    "    &nbsp;CAC }&nbsp;His\n",
    "    <br/><br/>\n",
    "    <del>{ CAA<br/>&nbsp;CAG }&nbsp;\n",
    "    Gln</del>\n",
    "    </th>\n",
    "    <th align=\"left\">\n",
    "    <del>{ CGU<br/>\n",
    "    &nbsp;CGC<br/>\n",
    "    &nbsp;CGA<br/>\n",
    "    &nbsp;CGG } Arg </del>\n",
    "    </th>\n",
    "  </tr>\n",
    "  <tr>\n",
    "    <td>A</td>\n",
    "    <th align=\"left\">\n",
    "    { AUU<br/>\n",
    "    &nbsp;AUC<br/>\n",
    "    &nbsp;AUA } Ile<br/><br/>\n",
    "    &nbsp;<del style=\"color:red;\">AUG } Met</del>\n",
    "    </th>\n",
    "    <th align=\"left\">\n",
    "    { ACU<br/>\n",
    "    &nbsp;ACC<br/>\n",
    "    &nbsp;ACA<br/>\n",
    "    &nbsp;ACG } Thr\n",
    "    </th>\n",
    "    <th align=\"left\">\n",
    "    { AAU<br/>\n",
    "    &nbsp;AAC }&nbsp;Asn\n",
    "    <br/><br/>\n",
    "    <del>{ AAA<br/>&nbsp;AAG }&nbsp;\n",
    "    Lys</del>\n",
    "    </th>\n",
    "    <th align=\"left\">\n",
    "    { AGU<br/>\n",
    "    &nbsp;AGC } Ser<br/><br/>\n",
    "    &nbsp;<del>{ AGA<br/>\n",
    "    &nbsp;AGG } Arg</del>\n",
    "    </th>\n",
    "  </tr>\n",
    "  <tr>\n",
    "  \t<td>G</td>\n",
    "    <th align=\"left\">\n",
    "    { GUU<br/>\n",
    "    &nbsp;GUC<br/>\n",
    "    &nbsp;GUA<br/>\n",
    "    &nbsp;GUG } Val\n",
    "    </th>\n",
    "    <th align=\"left\">\n",
    "    { GCU<br/>\n",
    "    &nbsp;GCC<br/>\n",
    "    &nbsp;GCA<br/>\n",
    "    &nbsp;GCG } Ala\n",
    "    </th>\n",
    "    <th align=\"left\">\n",
    "    { GAU<br/>\n",
    "    &nbsp;GAC }&nbsp;Asp\n",
    "    <br/><br/>\n",
    "    <del>{ GAA<br/>&nbsp;GAG }&nbsp;\n",
    "    Glu</del>\n",
    "    </th>\n",
    "    <th align=\"left\">\n",
    "    { GGU<br/>\n",
    "    &nbsp;GGC<br/>\n",
    "    &nbsp;GGA<br/>\n",
    "    &nbsp;GGG } Gly\n",
    "    </th>\n",
    "  </tr>\n",
    "</table>\n",
    "</div>"
   ]
  },
  {
   "cell_type": "markdown",
   "metadata": {},
   "source": [
    "<div align=\"right\" dir=\"rtl\"><h3>\n",
    "סעיף 1.3\n",
    "</div>"
   ]
  },
  {
   "attachments": {},
   "cell_type": "markdown",
   "metadata": {},
   "source": [
    "<div align=\"right\" dir=\"rtl\">\n",
    "ראשית, על מנת לקודד 20 ח. אמינו + 3 קודי הפעלה - כלומר 23 איברים, נצטרך 5 סיביות, מאחר ש2 בחזקת 4 שווה 16 אפשרויות לקידוד, אבל 2 בחזקת 5 שווה 32 אפשרויות לקידוד ח. אמינו. כלומר 5 סיביות יספיקו לנו לקידוד כל האיברים.\n",
    "נביט בנוסחה הבאה המייצגת את היחס בין סיבי המידע לסיבי הזוגיות בקוד האמינג. נמצא באמצעותה כמה סיבי זוגיות אנו נדרשים לשמור בכל ייצוג של האיברים הנ\"ל, בהינתן ש5 מקומות ישמרו לסיבי מידע:\n",
    "</div>\n",
    "\n",
    "$2^r\\ge m+r+1$  \n",
    "\n",
    "when:\n",
    "- r = parity bits = ?\n",
    "- m = data bits = 5\n",
    "\n",
    "By assigning the value of m to the equation, we will get:\n",
    "\n",
    "$2^r\\ge 6 + r\\implies r=4$\n",
    "\n",
    "<div align=\"right\" dir=\"rtl\">\n",
    "כלומר, עלינו להוסיף 4 קודי זוגיות לייצוג. לכן סה\"כ נידרש לbuffer בגודל 9 (5+4) =! 8 => כלומר לא ניתן לייצג את כל האיברים בייצוג באורך 8 סיביות, כאשר 5 מתוך 8 הסיביות הן סיביות מידע.<br/>\n",
    "בחרנו להשתמש בקוד האמינג מאחר שהוא טומן בכל ייצוג - אפשרות לזהות בדיוק באיזו סיבית חלה תקלה ולתקן אותה בהתאם.\n",
    "</div>\n",
    "\n"
   ]
  },
  {
   "cell_type": "markdown",
   "metadata": {},
   "source": [
    "<div align=\"right\" dir=\"rtl\"><h1>\n",
    "שאלה 2\n",
    "</div>"
   ]
  },
  {
   "attachments": {},
   "cell_type": "markdown",
   "metadata": {},
   "source": [
    "<div align=\"right\" dir=\"rtl\">\n",
    "כדי לייצג 50,000 חלבונים שונים ע\"י רצפי חומצות אמינו כאשר הרצפים הם הקצרים ביותר, ראשית נקודד רצף של חומצת אמינו אחת: 20X1=20. עדיין לא הגענו ל50,000. נמשיך לקודד עד שנגיע ל50,000.\n",
    "רצף של שתי חומצות אמינו: 20X20=400. סה\"כ 420 חלבונים.\n",
    "נמשיך: רצף של 3 חומצות אמינו:\n",
    "20 בחזקת 3 שווה 8000.\n",
    "עד כה ייצגנו 8420 רצפי חומצות אמינו כלומר חלבונים.\n",
    "נמשיך ונייצג כעת רצף של 4 חומצות אמינו: 20 בחזקת 4 שווה 160,000.\n",
    "כעת יש לנו בוודאות מעל 50,000 רצפים של חומצות אמינו, כלומר 50,000 חלבונים. על מנת באמת להשלים את מספר ייצוג החלבונים ל50,000, נצטרך רק 41,580 רצפים של 4 חומצות אמינו.\n",
    "מאחר ש: 50,000-8420=41,580. ובכך למעשה מצאנו את הייצוגים הקצרים ביותר של רצפי חומצות אמינו עבור 50,000 חלבונים שונים.\n",
    "</div>"
   ]
  },
  {
   "cell_type": "markdown",
   "metadata": {},
   "source": [
    "<div align=\"right\" dir=\"rtl\"><h3>\n",
    "סעיף 2.1\n",
    "</div>"
   ]
  },
  {
   "cell_type": "markdown",
   "metadata": {},
   "source": [
    "<div align=\"right\" dir=\"rtl\">\n",
    "האורך של הקידוד הארוך ביותר של חלבון לפי השיטה שהצענו הוא 4 רצפים של חומצות אמינו.\n",
    "מאחר שכפי שהסברנו על מנת להשלים ל50,000 יצוגים שונים של חלבונים נזדקק לרצף של 4 חומצות אמינו שכן באמצעות רצפים של 1,2 ו-3 חומצות אמינו הגענו רק אל 8420 יצוגים ולכן 50,000-8420=41,580 יצוגים עבור רצפים שאורכם 4 חומצות אמינו.\n",
    "</div>"
   ]
  },
  {
   "cell_type": "markdown",
   "metadata": {},
   "source": [
    "<div align=\"right\" dir=\"rtl\"><h3>\n",
    "סעיף 2.2\n",
    "</div>"
   ]
  },
  {
   "attachments": {},
   "cell_type": "markdown",
   "metadata": {},
   "source": [
    "<div align=\"right\" dir=\"rtl\">\n",
    "לפי השיטה שלנו ולפי ההנחה שכל 50,000 סוגי החלבונים מופיעים באותה שכיחות, נבצע ממוצע משוקלל שמחשב את האורך הממוצע עבור חלבון בגוף האדם:\n",
    "<br/><br/><div align=\"right\" dir=\"ltr\">\n",
    "\n",
    "$\\frac{4*41,580+3*8000+2*400+1*20}{50,000}=3.8$\n",
    "</div><br/>\n",
    "מאחר ואין כזה דבר 3.8 חומצות אמינו, נעגל למספר הקרוב והאורך הממוצע הוא 4.\n",
    "</div>"
   ]
  },
  {
   "cell_type": "markdown",
   "metadata": {},
   "source": [
    "<div align=\"right\" dir=\"rtl\"><h3>\n",
    "סעיף 2.3\n",
    "</div>"
   ]
  },
  {
   "cell_type": "markdown",
   "metadata": {},
   "source": [
    "<div align=\"right\" dir=\"rtl\">\n",
    "האורך הממוצע של חלבון בגוף האדם הוא כ-500 חומצות אמינו מכיוון שזה האורך שבו חלבונים יכולים לבצע את תפקידיהם ביעילות. חלבונים הם מולקולות מורכבות שאחראיות על מגוון רחב של תפקודים בגוף, כגון זירוז תגובות כימיות, הובלת מולקולות ומתן תמיכה מבנית.\n",
    "\n",
    "על מנת שחלבון יבצע את תפקידיו ביעילות, עליו להיות בעל רמת מורכבות מסוימת, אשר מושגת בדרך כלל על ידי מספר מסוים של חומצות אמינו. עבור רוב החלבונים, מספר זה הוא בסביבות 500 חומצות אמינו, מה שמאפשר לחלבון לקבל את רמת המורכבות המתאימה ולתפקד כראוי.\n",
    "</div>"
   ]
  },
  {
   "cell_type": "markdown",
   "metadata": {},
   "source": [
    "<div align=\"right\" dir=\"rtl\"><h1>\n",
    "שאלה 3\n",
    "</div>"
   ]
  },
  {
   "cell_type": "markdown",
   "metadata": {},
   "source": [
    "<div align=\"right\" dir=\"rtl\">\n",
    "כאשר השונות היא 0.010 אזי ככל שרמת הPH הסביבתית יותר רחוקה מ6, שהרי הוא אזור הנוחות של מושבת החיידקים, אז כך קצב רבייתם דועך בהדרגתיות גבוהה יותר. מושבת חיידקים זו לא גמישה כלל ביחס לסביבת החומציות המשתנה שבה היא נמצאת, ולכן קשה לאוכלוסיית החיידקים להסתגל לרמות החומציות השונות והיא נמצאת במגמת דעיכה ויכולת ההישרדות שלה נמוכה. באותו אופן כאשר סביבת החומציות מתקרבת ל6, יכולת ההישרדות של המושבה עולה וקצב התרבותה גדל.\n",
    "<br/><br/>\n",
    "כאשר השונות היא 0.015, הם מצליחים לאט לאט לשנות את רמת החומציות שלהם שתתאים לרמת החומציות הסביבתית. ניתן לראות שלאחר 500 דורות, הם מנסים להתאים את רמת החומציות שלהם לערכים גבוהים יותר, ואחרי הדור ה800, הם מצליחים לשרוד טוב יותר וקצת התרבותם עולה באופן רציף עד לנקודה שבו רמת הPH הסביבתית צונחת. מאחר שהורגלו לרמת חומציות גבוהה, ואז הרמה הזו צונחת אז אוכלוסייתם מדלדלת. \n",
    "<br/><br/>\n",
    "כאשר השונות היא 0.030, גמישות המושבה גבוהה יחסית לרמת החומציות הסביבתית, לכן הם מצליחים להסתגל לרמת הPH בצורה טובה יותר מדור לדור מאשר הקולוניות בעלות ערכי שונות נמוכים יותר.\n",
    "בפרט, כאשר רמת החומציות מגיעה לנק' קיצון, כלומר משתנה בערכים נמוכים לאורך כמה עשרות דורות, הקולוניה מצליחה להסתגל במהירות וכתוצאה מכך, קצב התרבותה גדל.\n",
    "לעומת זאת, כאשר רמת החומציות משתנה בצורה דרסטית (השיפועים החדים בין נק' הקיצון בגרף התחתון), על הקולוניה להתאים מחדש את רמת החומציות שלה לסביבה, ובכך אוכלוסייתה נפגעת. התהליך חוזר חלילה הודות לרמת הגמישות הנתונה.\n",
    "</div>"
   ]
  },
  {
   "cell_type": "markdown",
   "metadata": {},
   "source": []
  },
  {
   "cell_type": "markdown",
   "metadata": {},
   "source": [
    "<div align=\"left\" dir=\"rtl\"><h1>\n",
    "שאלה 4\n",
    "</div>"
   ]
  },
  {
   "cell_type": "code",
   "execution_count": 1,
   "metadata": {},
   "outputs": [
    {
     "name": "stdout",
     "output_type": "stream",
     "text": [
      "Population size: 500\n",
      "The color of most bears in the beginning: brown\n",
      "Outside color: white\n",
      "\n",
      "Population size: 988\n",
      "The color of most bears in the end: white\n",
      "Outside color: white\n",
      "Finished calculationg the simulation, here is the shift in each bear's population count:\n"
     ]
    },
    {
     "data": {
      "image/png": "[encoded data removed]",
      "text/plain": [
       "<Figure size 432x288 with 1 Axes>"
      ]
     },
     "metadata": {
      "needs_background": "light"
     },
     "output_type": "display_data"
    },
    {
     "data": {
      "image/png": "[encoded data removed]",
      "text/plain": [
       "<Figure size 432x288 with 1 Axes>"
      ]
     },
     "metadata": {
      "needs_background": "light"
     },
     "output_type": "display_data"
    }
   ],
   "source": [
    "import random\n",
    "import collections\n",
    "import numpy as np\n",
    "from matplotlib import pyplot as plot\n",
    "\n",
    "\n",
    "# Initial conditions\n",
    "\n",
    "N = 500                   # Total population size\n",
    "Max_Population = 1000     # When are there \"too much\" bears in the North Pole?\n",
    "DEFAULT_COLOR = 'brown'   # External (Environment) color (in the North Pole)\n",
    "ENV_COLOR = 'white'\n",
    "Simulation_time = 100     # How many generations will we simulate\n",
    "\n",
    "Generations = range(0,Simulation_time)\n",
    "\n",
    "\n",
    "Population = []\n",
    "PopulationSize = []\n",
    "BrownSize = []\n",
    "WhiteSize = []\n",
    "\n",
    "# Our hyper parameters are the birth chance of brown and white bears\n",
    "# and we gradually change these chances over generations.\n",
    "BROWN_BIRTH_CHANCE = 0.9\n",
    "WHITE_BIRTH_CHANCE = 0.1\n",
    "\n",
    "# We generate a starting population of bears where 10% of them are white, this of course can be changed\n",
    "for i in range(0,N):\n",
    "    color = np.random.choice([DEFAULT_COLOR, ENV_COLOR], p=[BROWN_BIRTH_CHANCE,  WHITE_BIRTH_CHANCE])\n",
    "    Population.append(str(color))\n",
    "\n",
    "counter = collections.Counter(Population)\n",
    "\n",
    "color_population = DEFAULT_COLOR if counter[DEFAULT_COLOR] >= counter[ENV_COLOR] else ENV_COLOR\n",
    "    \n",
    "print(f'Population size: {len(Population)}\\nThe color of most bears in the beginning: {color_population}\\nOutside color: white')\n",
    "\n",
    "\n",
    "# Start evolution generation by generation\n",
    "first_gen = True\n",
    "for Generation in Generations:\n",
    "        \n",
    "    \n",
    "    for bear_color in Population:\n",
    "        \n",
    "        if first_gen:\n",
    "            PopulationSize.append(N)\n",
    "            BrownSize.append(counter[DEFAULT_COLOR])\n",
    "            WhiteSize.append(0)\n",
    "            break\n",
    "\n",
    "        if not first_gen:\n",
    "\n",
    "            Survive_Color = False\n",
    "            if bear_color == ENV_COLOR:\n",
    "                Survive_Color = True\n",
    "            elif random.randint(1,2)==2:\n",
    "                Survive_Color = True\n",
    "\n",
    "            Survive_pop = False\n",
    "            if len(Population)>=Max_Population:\n",
    "                Survive_pop = False\n",
    "            elif random.randint(1,len(Population))<Max_Population/2:\n",
    "                Survive_pop = True\n",
    "\n",
    "         \n",
    "            if Survive_Color and Survive_pop:\n",
    "                # This bear gives birth in this generation\n",
    "                # Choose 2 new colors for the 2 outcomes\n",
    "                if bear_color == DEFAULT_COLOR:\n",
    "                    BROWN_BIRTH_CHANCE -= BROWN_BIRTH_CHANCE/(Simulation_time*100)\n",
    "                    if BROWN_BIRTH_CHANCE < 0:\n",
    "                        BROWN_BIRTH_CHANCE = 0\n",
    "                    C_1 = np.random.choice([DEFAULT_COLOR, ENV_COLOR], p=[BROWN_BIRTH_CHANCE, 1-BROWN_BIRTH_CHANCE])\n",
    "                    C_2 = np.random.choice([DEFAULT_COLOR, ENV_COLOR], p=[BROWN_BIRTH_CHANCE, 1-BROWN_BIRTH_CHANCE])\n",
    "                else:\n",
    "                    if (1 - WHITE_BIRTH_CHANCE)>0:\n",
    "                        WHITE_BIRTH_CHANCE += WHITE_BIRTH_CHANCE/(Simulation_time*70)\n",
    "                    if (1-WHITE_BIRTH_CHANCE < 0):\n",
    "                        WHITE_BIRTH_CHANCE = 1\n",
    "                    C_1 = np.random.choice([ENV_COLOR, DEFAULT_COLOR], p=[WHITE_BIRTH_CHANCE, 1-WHITE_BIRTH_CHANCE])\n",
    "                    C_2 = np.random.choice([ENV_COLOR, DEFAULT_COLOR], p=[WHITE_BIRTH_CHANCE, 1-WHITE_BIRTH_CHANCE])\n",
    "                    \n",
    "                Population.append(C_1)\n",
    "                Population.append(C_2)\n",
    "                \n",
    "\n",
    "\n",
    "            Population.remove(bear_color)  # delete the old bear after it did - or did not - reproduce\n",
    "        \n",
    "\n",
    "    \n",
    "    # The whole bear colony was regenerated - Now we append the sizes to each size group.\n",
    "    if not first_gen:\n",
    "        counter = collections.Counter(Population)\n",
    "        BrownSize.append(counter[DEFAULT_COLOR])\n",
    "        WhiteSize.append(counter[ENV_COLOR])\n",
    "        PopulationSize.append(len(Population))\n",
    "\n",
    "    first_gen = False\n",
    "    \n",
    "    counter = collections.Counter(Population)\n",
    "    color_population = DEFAULT_COLOR if counter[DEFAULT_COLOR] >= counter[ENV_COLOR] else ENV_COLOR\n",
    "\n",
    "#some prints for testing:\n",
    "\n",
    "# print(len(PopulationSize))\n",
    "# print(len(BrownSize))\n",
    "# print(BrownSize)\n",
    "# print(WhiteSize)\n",
    "# print(color_population)\n",
    "print()\n",
    "print(f'Population size: {len(Population)}\\nThe color of most bears in the end: {color_population}\\nOutside color: white')\n",
    "       \n",
    "print('Finished calculationg the simulation, here is the shift in each bear\\'s population count:')\n",
    "\n",
    "plot.plot(Generations,BrownSize) \n",
    "plot.plot(Generations,Max_Population*np.ones(len(Generations)),\"r-\")\n",
    "plot.xlabel(\"Generation\")\n",
    "plot.ylabel(\"Brown bears population\")\n",
    "plot.show()\n",
    "\n",
    "\n",
    "plot.plot(Generations,WhiteSize) \n",
    "plot.plot(Generations,Max_Population*np.ones(len(Generations)),\"r-\")\n",
    "plot.xlabel(\"Generation\")\n",
    "plot.ylabel(\"White bears population\")\n",
    "plot.show()"
   ]
  },
  {
   "cell_type": "markdown",
   "metadata": {},
   "source": [
    "<div align=\"left\" dir=\"rtl\"><h1>\n",
    "שאלה 5\n",
    "</div>\n",
    "<div align=\"left\" dir=\"rtl\"><h3>\n",
    "סעיף 5.1\n",
    "</div>"
   ]
  },
  {
   "cell_type": "code",
   "execution_count": 1,
   "metadata": {},
   "outputs": [
    {
     "data": {
      "image/png": "[encoded data removed]",
      "text/plain": [
       "<Figure size 432x288 with 1 Axes>"
      ]
     },
     "metadata": {
      "needs_background": "light"
     },
     "output_type": "display_data"
    },
    {
     "data": {
      "image/png": "[encoded data removed]",
      "text/plain": [
       "<Figure size 432x288 with 1 Axes>"
      ]
     },
     "metadata": {
      "needs_background": "light"
     },
     "output_type": "display_data"
    }
   ],
   "source": [
    "\n",
    "from scipy.integrate import odeint\n",
    "import matplotlib.pyplot as plt\n",
    "import numpy as npy\n",
    "import random\n",
    "\n",
    "# timestep determines the accuracy of the euler method of integration\n",
    "timestep = 0.0001\n",
    "# amplitude of noise term\n",
    "amp = 0.00\n",
    "# the time at which the simulation ends\n",
    "end_time = 50\n",
    "\n",
    "# creates a time vector from 0 to end_time, seperated by a timestep\n",
    "t = npy.arange(0,end_time,timestep)\n",
    "\n",
    "# intialize rabbits (x) and foxes (y) vectors\n",
    "x = []\n",
    "y = []\n",
    "\n",
    "# noise term to perturb differential equations\n",
    "def StochasticTerm(amp):\n",
    "    return (amp * random.uniform(-1,1))\n",
    "\n",
    "\"\"\"\" definition of lotka-volterra parameters\"\"\"\n",
    "# birth rate of rabbits\n",
    "a = 1\n",
    "# death rate of rabbits due to predation\n",
    "b = 0.1\n",
    "# natural death rate of foxes\n",
    "c = 0.5\n",
    "# factor that describes how many eaten rabbits give birth to a new fox\n",
    "d = 0.02\n",
    "\n",
    "\"\"\" euler integration \"\"\"\n",
    "\n",
    "# initial conditions for the rabbit (x) and fox (y) populations at time=0\n",
    "x.append(100)\n",
    "y.append(20)\n",
    "\n",
    "# use euler method of integration\n",
    "for index in range(1,len(t)):\n",
    "    \n",
    "    a = 3 - np.log10(x[index-1])\n",
    "\n",
    "    # evaluate the current differentials\n",
    "    xd = x[index-1] * (a - b*y[index-1])\n",
    "    yd = -y[index-1]*(c - d*x[index-1])\n",
    "    \n",
    "    # evaluate the next value of x and y using differentials\n",
    "    next_x = x[index-1] + xd * timestep\n",
    "    next_y = y[index-1] + yd * timestep\n",
    "\n",
    "    # add the next value of x and y \n",
    "    x.append(next_x)\n",
    "    y.append(next_y)\n",
    "\n",
    "\"\"\" visualization \"\"\"\n",
    "\n",
    "plt.plot(t, x)\n",
    "plt.plot(t, y)\n",
    "plt.xlabel('Time')\n",
    "plt.ylabel('Population Size')\n",
    "plt.legend(('Rabbits', 'Foxes'))\n",
    "plt.title('Deterministic Lotka-Volterra')\n",
    "plt.show()\n",
    "\n",
    "# deterministic phase portrait\n",
    "plt.plot(x,y)\n",
    "plt.xlabel('Rabbit Population')\n",
    "plt.ylabel('Fox Population')\n",
    "plt.title('Phase Portrait of Deterministic Lotka-Volterra')\n",
    "plt.show()\n"
   ]
  },
  {
   "attachments": {},
   "cell_type": "markdown",
   "metadata": {},
   "source": [
    "<div align=\"right\" dir=\"rtl\"><h3>\n",
    "סעיף 5.2\n",
    "</div>"
   ]
  },
  {
   "attachments": {},
   "cell_type": "markdown",
   "metadata": {},
   "source": [
    "<div align=\"right\" dir=\"rtl\">\n",
    "תוך שמירה על שיעור הילודה של הארנבים כ-1 קבוע, אנו יכולים לראות שגודל אוכלוסיית הארנבים מושפעת אך ורק מגודל אוכלוסיית השועלים.\n",
    "כלומר, גידול באוכלוסיית השועלים מעיד על כך שאלה יצרכו יותר ארנבים, וכך אוכלוסית הארנבים תדלדל.\n",
    "מצד שני, ירידה באוכלוסיית השועלים תגרום לגידול מיידי לאוכלוסיית הארנבים, שכן הם מתרבים מהר יותר ממה שהם נצרכים.\n",
    "\n",
    "כעת שינינו את שיעור ילודת הארנבים ל-\n",
    "</div>\n",
    "\n",
    "$3-\\log_{10}x[i]$\n",
    "\n",
    "<div align=\"right\" dir=\"rtl\">\n",
    "ואנו יכולים לראות שהגרפים החדשים מצביעים על התכנסות של שני גדלי האוכלוסיות.\n",
    "נשים לב שבגרף החדש שלנו בהשוואה לקודם, בעוד שיש מעט שועלים והרבה ארנבים, אוכלוסיית השועלים מתחילה לגדול בזמן שהארנבים מתמעטים במספרם.\n",
    "\n",
    "אבל עכשיו, מכיוון שקבענו את קצב גידול הארנבים להיות תלוי בגודל אוכלוסיית הארנבים הנוכחית, אז *ככל שיש יותר ארנבים, כך קצב הגידול שלהם יהיה קטן יותר.* לכן הם יגדלו לנקודת שיא כלשהי (ביחס ל- מספרם ההתחלתי וביחס לקצב הטריפה שלהם) ושוב, השועלים הבודדים שנותרו ישיגו בחזרה את שפע מקור המזון שלהם ויגדלו במספרם.\n",
    "\n",
    "נשים לב שבשל עובדה זו, בגרף העליון, נקודות הקיצון בכל מחזור (מקסימום ומינימום הארנבים והשועלים כל אחד) יתקרבו ביניהם.\n",
    "אפקט הדומינו הזה יימשך עד שגודל אוכלוסיית הארנבים יהיה בשיווי משקל עם גודל אוכלוסיית השועלים. כלומר קצב צריכת הארנבים (ע\"י השועלים) ישתווה לקצב הרבייה של הארנבים.\n",
    "</div>"
   ]
  },
  {
   "cell_type": "markdown",
   "metadata": {},
   "source": []
  },
  {
   "attachments": {},
   "cell_type": "markdown",
   "metadata": {},
   "source": [
    "<div align=\"right\" dir=\"rtl\"><h3>\n",
    "סעיף 5.3\n",
    "</div>"
   ]
  },
  {
   "attachments": {},
   "cell_type": "markdown",
   "metadata": {},
   "source": [
    "<div align=\"right\" dir=\"rtl\">\n",
    "כפי שכבר ראינו, פונקציית קצב רביית הארנבים החדשה היא\n",
    "</div>\n",
    "\n",
    " $3-\\log_{10}x[i]$.\n",
    " \n",
    "<div align=\"right\" dir=\"rtl\">\n",
    "נשים לב כי אם יש רק שני ארנבים ביער (ונניח שהם יכולים להתרבות אחד עם השני), אז קצב הגדילה יהיה המקסימלי, שהוא ~3.\n",
    "זה כמובן תואם את הממצאים שלנו בסעיף הקודם.\n",
    "</div>\n",
    "\n",
    "<div align=\"right\" dir=\"rtl\"><br/>\n",
    "המשמעות היא שכאשר קצב הגידול הוא המינימלי כלומר 0, אזי גודל האוכלוסיה הוא המירבי וערכו יהיה \n",
    "</div>\n",
    "\n",
    " $10^3=1000$."
   ]
  }
 ],
 "metadata": {
  "kernelspec": {
   "display_name": "Python 3",
   "language": "python",
   "name": "python3"
  },
  "language_info": {
   "codemirror_mode": {
    "name": "ipython",
    "version": 3
   },
   "file_extension": ".py",
   "mimetype": "text/x-python",
   "name": "python",
   "nbconvert_exporter": "python",
   "pygments_lexer": "ipython3",
   "version": "3.9.12"
  },
  "orig_nbformat": 4,
  "vscode": {
   "interpreter": {
    "hash": "425cb62a1cbec1a7be025362b52f515e7defaa77746305080b1b9ef4436bf8c1"
   }
  }
 },
 "nbformat": 4,
 "nbformat_minor": 2
}
